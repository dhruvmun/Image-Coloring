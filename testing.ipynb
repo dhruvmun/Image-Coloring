{
 "cells": [
  {
   "cell_type": "code",
   "execution_count": 5,
   "metadata": {},
   "outputs": [],
   "source": [
    "import numpy as np"
   ]
  },
  {
   "cell_type": "code",
   "execution_count": 1,
   "metadata": {},
   "outputs": [],
   "source": [
    "image_size = 28 \n",
    "input_channels = 1\n",
    "output_channels = 3\n",
    "filter_size = 3\n",
    "no_of_filters1 = 32\n",
    "no_of_filters2 = 64\n",
    "learning_rate = 0.1"
   ]
  },
  {
   "cell_type": "code",
   "execution_count": 6,
   "metadata": {},
   "outputs": [],
   "source": [
    "mean = 0\n",
    "std = 0.5\n",
    "\n",
    "conv_layer1_weights = np.random.normal(mean, std,(filter_size, filter_size, input_channels, no_of_filters1))\n",
    "conv_layer1_biases = np.zeros((1, no_of_filters1))\n",
    "conv_layer2_weights = np.random.normal(mean, std,(filter_size, filter_size, no_of_filters1, no_of_filters2))\n",
    "conv_layer2_biases = np.zeros((1, no_of_filters2))"
   ]
  },
  {
   "cell_type": "code",
   "execution_count": 7,
   "metadata": {},
   "outputs": [
    {
     "name": "stdout",
     "output_type": "stream",
     "text": [
      "(3, 3, 1, 32)\n",
      "(1, 32)\n",
      "(3, 3, 32, 64)\n",
      "(1, 64)\n"
     ]
    }
   ],
   "source": [
    "print(conv_layer1_weights.shape)\n",
    "print(conv_layer1_biases.shape)\n",
    "print(conv_layer2_weights.shape)\n",
    "print(conv_layer2_biases.shape)"
   ]
  },
  {
   "cell_type": "code",
   "execution_count": null,
   "metadata": {},
   "outputs": [],
   "source": [
    "m,row,col,channels = image.shape\n",
    "nf = filter.shape[3]\n",
    "new_image = np.zeros((m, n-filter_size+1, n-filter_size+1, nf))\n",
    "\n",
    "for i in m:\n",
    "    img = image[i]\n",
    "    for r in range(row-filte_size):\n",
    "        for c in range(col-filter_size):\n",
    "            x = img[r:r+filter_size][c:c+filter_size][:]\n",
    "            new_image = conv(x,filter,bias[])"
   ]
  },
  {
   "cell_type": "code",
   "execution_count": 16,
   "metadata": {},
   "outputs": [
    {
     "data": {
      "text/plain": [
       "(5, 3, 3)"
      ]
     },
     "execution_count": 16,
     "metadata": {},
     "output_type": "execute_result"
    }
   ],
   "source": [
    "new_image = np.zeros((5,3,3,1))\n",
    "new_image[:,:,:,0].shape"
   ]
  },
  {
   "cell_type": "code",
   "execution_count": null,
   "metadata": {},
   "outputs": [],
   "source": []
  }
 ],
 "metadata": {
  "kernelspec": {
   "display_name": "Python 3",
   "language": "python",
   "name": "python3"
  },
  "language_info": {
   "codemirror_mode": {
    "name": "ipython",
    "version": 3
   },
   "file_extension": ".py",
   "mimetype": "text/x-python",
   "name": "python",
   "nbconvert_exporter": "python",
   "pygments_lexer": "ipython3",
   "version": "3.4.3"
  }
 },
 "nbformat": 4,
 "nbformat_minor": 2
}
